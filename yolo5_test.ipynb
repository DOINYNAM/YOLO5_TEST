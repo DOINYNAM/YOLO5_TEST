{
 "cells": [
  {
   "cell_type": "markdown",
   "metadata": {},
   "source": [
    "preparing for yolo5 (install process)\n",
    "\n",
    "1) 욜로5 깃헙 레포지토리 clone\n",
    "2) 쿠다 및 파이토치 설치\n",
    "3) requirements 설치"
   ]
  },
  {
   "cell_type": "code",
   "execution_count": null,
   "metadata": {},
   "outputs": [],
   "source": [
    "# CUDA 11.3 (For pythorch)\n",
    "conda install pytorch==1.10.1 torchvision==0.11.2 torchaudio==0.10.1 cudatoolkit=11.3 -c pytorch -c conda-forge"
   ]
  },
  {
   "cell_type": "code",
   "execution_count": null,
   "metadata": {},
   "outputs": [],
   "source": [
    "# Tensorflow\n",
    "pip install tensorflow"
   ]
  },
  {
   "cell_type": "code",
   "execution_count": null,
   "metadata": {},
   "outputs": [],
   "source": [
    "# 나머지 필요 모듈 설치\n",
    "cd yolov5\n",
    "pip install -r requirements.txt"
   ]
  },
  {
   "cell_type": "code",
   "execution_count": 4,
   "metadata": {},
   "outputs": [
    {
     "data": {
      "text/plain": [
       "'c:\\\\Users\\\\skaeh\\\\OneDrive\\\\바탕 화면\\\\yolo5_test'"
      ]
     },
     "execution_count": 4,
     "metadata": {},
     "output_type": "execute_result"
    }
   ],
   "source": [
    "pwd"
   ]
  },
  {
   "cell_type": "code",
   "execution_count": null,
   "metadata": {},
   "outputs": [],
   "source": []
  },
  {
   "cell_type": "code",
   "execution_count": 6,
   "metadata": {},
   "outputs": [
    {
     "ename": "BadZipFile",
     "evalue": "File is not a zip file",
     "output_type": "error",
     "traceback": [
      "\u001b[1;31m---------------------------------------------------------------------------\u001b[0m",
      "\u001b[1;31mBadZipFile\u001b[0m                                Traceback (most recent call last)",
      "\u001b[1;32mc:\\Users\\skaeh\\OneDrive\\바탕 화면\\yolo5_test\\yolo5_test.ipynb Cell 7'\u001b[0m in \u001b[0;36m<cell line: 4>\u001b[1;34m()\u001b[0m\n\u001b[0;32m      <a href='vscode-notebook-cell:/c%3A/Users/skaeh/OneDrive/%EB%B0%94%ED%83%95%20%ED%99%94%EB%A9%B4/yolo5_test/yolo5_test.ipynb#ch0000005?line=0'>1</a>\u001b[0m \u001b[39m# 압축 해제\u001b[39;00m\n\u001b[0;32m      <a href='vscode-notebook-cell:/c%3A/Users/skaeh/OneDrive/%EB%B0%94%ED%83%95%20%ED%99%94%EB%A9%B4/yolo5_test/yolo5_test.ipynb#ch0000005?line=1'>2</a>\u001b[0m \u001b[39mimport\u001b[39;00m \u001b[39mzipfile\u001b[39;00m\n\u001b[1;32m----> <a href='vscode-notebook-cell:/c%3A/Users/skaeh/OneDrive/%EB%B0%94%ED%83%95%20%ED%99%94%EB%A9%B4/yolo5_test/yolo5_test.ipynb#ch0000005?line=3'>4</a>\u001b[0m fantasy_zip \u001b[39m=\u001b[39m zipfile\u001b[39m.\u001b[39;49mZipFile(\u001b[39m'\u001b[39;49m\u001b[39mc:\u001b[39;49m\u001b[39m\\\\\u001b[39;49;00m\u001b[39mUsers\u001b[39;49m\u001b[39m\\\\\u001b[39;49;00m\u001b[39mskaeh\u001b[39;49m\u001b[39m\\\\\u001b[39;49;00m\u001b[39mOneDrive\u001b[39;49m\u001b[39m\\\\\u001b[39;49;00m\u001b[39m바탕 화면\u001b[39;49m\u001b[39m\\\\\u001b[39;49;00m\u001b[39myolo5_test\u001b[39;49m\u001b[39m\\\\\u001b[39;49;00m\u001b[39mroboflow.zip\u001b[39;49m\u001b[39m'\u001b[39;49m)\n\u001b[0;32m      <a href='vscode-notebook-cell:/c%3A/Users/skaeh/OneDrive/%EB%B0%94%ED%83%95%20%ED%99%94%EB%A9%B4/yolo5_test/yolo5_test.ipynb#ch0000005?line=4'>5</a>\u001b[0m fantasy_zip\u001b[39m.\u001b[39mextractall(\u001b[39m'\u001b[39m\u001b[39mc:\u001b[39m\u001b[39m\\\\\u001b[39;00m\u001b[39mUsers\u001b[39m\u001b[39m\\\\\u001b[39;00m\u001b[39mskaeh\u001b[39m\u001b[39m\\\\\u001b[39;00m\u001b[39mOneDrive\u001b[39m\u001b[39m\\\\\u001b[39;00m\u001b[39m바탕 화면\u001b[39m\u001b[39m\\\\\u001b[39;00m\u001b[39myolo5_test\u001b[39m\u001b[39m'\u001b[39m)\n\u001b[0;32m      <a href='vscode-notebook-cell:/c%3A/Users/skaeh/OneDrive/%EB%B0%94%ED%83%95%20%ED%99%94%EB%A9%B4/yolo5_test/yolo5_test.ipynb#ch0000005?line=6'>7</a>\u001b[0m fantasy_zip\u001b[39m.\u001b[39mclose()\n",
      "File \u001b[1;32m~\\Anaconda3\\envs\\yolo5_test\\lib\\zipfile.py:1269\u001b[0m, in \u001b[0;36mZipFile.__init__\u001b[1;34m(self, file, mode, compression, allowZip64, compresslevel, strict_timestamps)\u001b[0m\n\u001b[0;32m   <a href='file:///c%3A/Users/skaeh/Anaconda3/envs/yolo5_test/lib/zipfile.py?line=1266'>1267</a>\u001b[0m \u001b[39mtry\u001b[39;00m:\n\u001b[0;32m   <a href='file:///c%3A/Users/skaeh/Anaconda3/envs/yolo5_test/lib/zipfile.py?line=1267'>1268</a>\u001b[0m     \u001b[39mif\u001b[39;00m mode \u001b[39m==\u001b[39m \u001b[39m'\u001b[39m\u001b[39mr\u001b[39m\u001b[39m'\u001b[39m:\n\u001b[1;32m-> <a href='file:///c%3A/Users/skaeh/Anaconda3/envs/yolo5_test/lib/zipfile.py?line=1268'>1269</a>\u001b[0m         \u001b[39mself\u001b[39;49m\u001b[39m.\u001b[39;49m_RealGetContents()\n\u001b[0;32m   <a href='file:///c%3A/Users/skaeh/Anaconda3/envs/yolo5_test/lib/zipfile.py?line=1269'>1270</a>\u001b[0m     \u001b[39melif\u001b[39;00m mode \u001b[39min\u001b[39;00m (\u001b[39m'\u001b[39m\u001b[39mw\u001b[39m\u001b[39m'\u001b[39m, \u001b[39m'\u001b[39m\u001b[39mx\u001b[39m\u001b[39m'\u001b[39m):\n\u001b[0;32m   <a href='file:///c%3A/Users/skaeh/Anaconda3/envs/yolo5_test/lib/zipfile.py?line=1270'>1271</a>\u001b[0m         \u001b[39m# set the modified flag so central directory gets written\u001b[39;00m\n\u001b[0;32m   <a href='file:///c%3A/Users/skaeh/Anaconda3/envs/yolo5_test/lib/zipfile.py?line=1271'>1272</a>\u001b[0m         \u001b[39m# even if no files are added to the archive\u001b[39;00m\n\u001b[0;32m   <a href='file:///c%3A/Users/skaeh/Anaconda3/envs/yolo5_test/lib/zipfile.py?line=1272'>1273</a>\u001b[0m         \u001b[39mself\u001b[39m\u001b[39m.\u001b[39m_didModify \u001b[39m=\u001b[39m \u001b[39mTrue\u001b[39;00m\n",
      "File \u001b[1;32m~\\Anaconda3\\envs\\yolo5_test\\lib\\zipfile.py:1336\u001b[0m, in \u001b[0;36mZipFile._RealGetContents\u001b[1;34m(self)\u001b[0m\n\u001b[0;32m   <a href='file:///c%3A/Users/skaeh/Anaconda3/envs/yolo5_test/lib/zipfile.py?line=1333'>1334</a>\u001b[0m     \u001b[39mraise\u001b[39;00m BadZipFile(\u001b[39m\"\u001b[39m\u001b[39mFile is not a zip file\u001b[39m\u001b[39m\"\u001b[39m)\n\u001b[0;32m   <a href='file:///c%3A/Users/skaeh/Anaconda3/envs/yolo5_test/lib/zipfile.py?line=1334'>1335</a>\u001b[0m \u001b[39mif\u001b[39;00m \u001b[39mnot\u001b[39;00m endrec:\n\u001b[1;32m-> <a href='file:///c%3A/Users/skaeh/Anaconda3/envs/yolo5_test/lib/zipfile.py?line=1335'>1336</a>\u001b[0m     \u001b[39mraise\u001b[39;00m BadZipFile(\u001b[39m\"\u001b[39m\u001b[39mFile is not a zip file\u001b[39m\u001b[39m\"\u001b[39m)\n\u001b[0;32m   <a href='file:///c%3A/Users/skaeh/Anaconda3/envs/yolo5_test/lib/zipfile.py?line=1336'>1337</a>\u001b[0m \u001b[39mif\u001b[39;00m \u001b[39mself\u001b[39m\u001b[39m.\u001b[39mdebug \u001b[39m>\u001b[39m \u001b[39m1\u001b[39m:\n\u001b[0;32m   <a href='file:///c%3A/Users/skaeh/Anaconda3/envs/yolo5_test/lib/zipfile.py?line=1337'>1338</a>\u001b[0m     \u001b[39mprint\u001b[39m(endrec)\n",
      "\u001b[1;31mBadZipFile\u001b[0m: File is not a zip file"
     ]
    }
   ],
   "source": [
    "# 압축 해제\n",
    "import zipfile\n",
    "         \n",
    "fantasy_zip = zipfile.ZipFile('c:\\\\Users\\\\skaeh\\\\OneDrive\\\\바탕 화면\\\\yolo5_test\\\\roboflow.zip')\n",
    "fantasy_zip.extractall('c:\\\\Users\\\\skaeh\\\\OneDrive\\\\바탕 화면\\\\yolo5_test')\n",
    " \n",
    "fantasy_zip.close()"
   ]
  }
 ],
 "metadata": {
  "interpreter": {
   "hash": "96f0d7b88ce7c5c8aac01d80a866ab1b9daccaae3a6ac02669c1339be8664e78"
  },
  "kernelspec": {
   "display_name": "Python 3.8.13 ('yolo5_test')",
   "language": "python",
   "name": "python3"
  },
  "language_info": {
   "codemirror_mode": {
    "name": "ipython",
    "version": 3
   },
   "file_extension": ".py",
   "mimetype": "text/x-python",
   "name": "python",
   "nbconvert_exporter": "python",
   "pygments_lexer": "ipython3",
   "version": "3.8.13"
  },
  "orig_nbformat": 4
 },
 "nbformat": 4,
 "nbformat_minor": 2
}
